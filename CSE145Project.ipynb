{
  "nbformat": 4,
  "nbformat_minor": 0,
  "metadata": {
    "colab": {
      "name": "CSE145Project.ipynb",
      "provenance": [],
      "collapsed_sections": []
    },
    "kernelspec": {
      "display_name": "Python 3",
      "name": "python3"
    },
    "language_info": {
      "name": "python"
    }
  },
  "cells": [
    {
      "cell_type": "markdown",
      "metadata": {
        "id": "6S-8dQR8BbY8"
      },
      "source": [
        "Standard imports for parsing and displaying data"
      ]
    },
    {
      "cell_type": "code",
      "metadata": {
        "id": "fvSj2L96_gEb"
      },
      "source": [
        "import pandas as pd\n",
        "from matplotlib import pyplot as plt\n",
        "import numpy as np\n",
        "from sklearn.linear_model import LogisticRegression\n",
        "from sklearn import metrics\n",
        "from sklearn.model_selection import train_test_split\n",
        "from sklearn.feature_extraction.text import CountVectorizer\n",
        "from sklearn.feature_extraction.text import TfidfVectorizer\n",
        "import seaborn as sns\n",
        "import math\n",
        "\n",
        "from sklearn.metrics import roc_curve\n",
        "\n",
        "import os\n",
        "%matplotlib inline\n",
        "sns.set(style='ticks', palette='Set2')"
      ],
      "execution_count": null,
      "outputs": []
    },
    {
      "cell_type": "markdown",
      "metadata": {
        "id": "eEmCN43yBi0A"
      },
      "source": [
        "Code to upload files"
      ]
    },
    {
      "cell_type": "code",
      "metadata": {
        "colab": {
          "resources": {
            "http://localhost:8080/nbextensions/google.colab/files.js": {
              "data": "Ly8gQ29weXJpZ2h0IDIwMTcgR29vZ2xlIExMQwovLwovLyBMaWNlbnNlZCB1bmRlciB0aGUgQXBhY2hlIExpY2Vuc2UsIFZlcnNpb24gMi4wICh0aGUgIkxpY2Vuc2UiKTsKLy8geW91IG1heSBub3QgdXNlIHRoaXMgZmlsZSBleGNlcHQgaW4gY29tcGxpYW5jZSB3aXRoIHRoZSBMaWNlbnNlLgovLyBZb3UgbWF5IG9idGFpbiBhIGNvcHkgb2YgdGhlIExpY2Vuc2UgYXQKLy8KLy8gICAgICBodHRwOi8vd3d3LmFwYWNoZS5vcmcvbGljZW5zZXMvTElDRU5TRS0yLjAKLy8KLy8gVW5sZXNzIHJlcXVpcmVkIGJ5IGFwcGxpY2FibGUgbGF3IG9yIGFncmVlZCB0byBpbiB3cml0aW5nLCBzb2Z0d2FyZQovLyBkaXN0cmlidXRlZCB1bmRlciB0aGUgTGljZW5zZSBpcyBkaXN0cmlidXRlZCBvbiBhbiAiQVMgSVMiIEJBU0lTLAovLyBXSVRIT1VUIFdBUlJBTlRJRVMgT1IgQ09ORElUSU9OUyBPRiBBTlkgS0lORCwgZWl0aGVyIGV4cHJlc3Mgb3IgaW1wbGllZC4KLy8gU2VlIHRoZSBMaWNlbnNlIGZvciB0aGUgc3BlY2lmaWMgbGFuZ3VhZ2UgZ292ZXJuaW5nIHBlcm1pc3Npb25zIGFuZAovLyBsaW1pdGF0aW9ucyB1bmRlciB0aGUgTGljZW5zZS4KCi8qKgogKiBAZmlsZW92ZXJ2aWV3IEhlbHBlcnMgZm9yIGdvb2dsZS5jb2xhYiBQeXRob24gbW9kdWxlLgogKi8KKGZ1bmN0aW9uKHNjb3BlKSB7CmZ1bmN0aW9uIHNwYW4odGV4dCwgc3R5bGVBdHRyaWJ1dGVzID0ge30pIHsKICBjb25zdCBlbGVtZW50ID0gZG9jdW1lbnQuY3JlYXRlRWxlbWVudCgnc3BhbicpOwogIGVsZW1lbnQudGV4dENvbnRlbnQgPSB0ZXh0OwogIGZvciAoY29uc3Qga2V5IG9mIE9iamVjdC5rZXlzKHN0eWxlQXR0cmlidXRlcykpIHsKICAgIGVsZW1lbnQuc3R5bGVba2V5XSA9IHN0eWxlQXR0cmlidXRlc1trZXldOwogIH0KICByZXR1cm4gZWxlbWVudDsKfQoKLy8gTWF4IG51bWJlciBvZiBieXRlcyB3aGljaCB3aWxsIGJlIHVwbG9hZGVkIGF0IGEgdGltZS4KY29uc3QgTUFYX1BBWUxPQURfU0laRSA9IDEwMCAqIDEwMjQ7CgpmdW5jdGlvbiBfdXBsb2FkRmlsZXMoaW5wdXRJZCwgb3V0cHV0SWQpIHsKICBjb25zdCBzdGVwcyA9IHVwbG9hZEZpbGVzU3RlcChpbnB1dElkLCBvdXRwdXRJZCk7CiAgY29uc3Qgb3V0cHV0RWxlbWVudCA9IGRvY3VtZW50LmdldEVsZW1lbnRCeUlkKG91dHB1dElkKTsKICAvLyBDYWNoZSBzdGVwcyBvbiB0aGUgb3V0cHV0RWxlbWVudCB0byBtYWtlIGl0IGF2YWlsYWJsZSBmb3IgdGhlIG5leHQgY2FsbAogIC8vIHRvIHVwbG9hZEZpbGVzQ29udGludWUgZnJvbSBQeXRob24uCiAgb3V0cHV0RWxlbWVudC5zdGVwcyA9IHN0ZXBzOwoKICByZXR1cm4gX3VwbG9hZEZpbGVzQ29udGludWUob3V0cHV0SWQpOwp9CgovLyBUaGlzIGlzIHJvdWdobHkgYW4gYXN5bmMgZ2VuZXJhdG9yIChub3Qgc3VwcG9ydGVkIGluIHRoZSBicm93c2VyIHlldCksCi8vIHdoZXJlIHRoZXJlIGFyZSBtdWx0aXBsZSBhc3luY2hyb25vdXMgc3RlcHMgYW5kIHRoZSBQeXRob24gc2lkZSBpcyBnb2luZwovLyB0byBwb2xsIGZvciBjb21wbGV0aW9uIG9mIGVhY2ggc3RlcC4KLy8gVGhpcyB1c2VzIGEgUHJvbWlzZSB0byBibG9jayB0aGUgcHl0aG9uIHNpZGUgb24gY29tcGxldGlvbiBvZiBlYWNoIHN0ZXAsCi8vIHRoZW4gcGFzc2VzIHRoZSByZXN1bHQgb2YgdGhlIHByZXZpb3VzIHN0ZXAgYXMgdGhlIGlucHV0IHRvIHRoZSBuZXh0IHN0ZXAuCmZ1bmN0aW9uIF91cGxvYWRGaWxlc0NvbnRpbnVlKG91dHB1dElkKSB7CiAgY29uc3Qgb3V0cHV0RWxlbWVudCA9IGRvY3VtZW50LmdldEVsZW1lbnRCeUlkKG91dHB1dElkKTsKICBjb25zdCBzdGVwcyA9IG91dHB1dEVsZW1lbnQuc3RlcHM7CgogIGNvbnN0IG5leHQgPSBzdGVwcy5uZXh0KG91dHB1dEVsZW1lbnQubGFzdFByb21pc2VWYWx1ZSk7CiAgcmV0dXJuIFByb21pc2UucmVzb2x2ZShuZXh0LnZhbHVlLnByb21pc2UpLnRoZW4oKHZhbHVlKSA9PiB7CiAgICAvLyBDYWNoZSB0aGUgbGFzdCBwcm9taXNlIHZhbHVlIHRvIG1ha2UgaXQgYXZhaWxhYmxlIHRvIHRoZSBuZXh0CiAgICAvLyBzdGVwIG9mIHRoZSBnZW5lcmF0b3IuCiAgICBvdXRwdXRFbGVtZW50Lmxhc3RQcm9taXNlVmFsdWUgPSB2YWx1ZTsKICAgIHJldHVybiBuZXh0LnZhbHVlLnJlc3BvbnNlOwogIH0pOwp9CgovKioKICogR2VuZXJhdG9yIGZ1bmN0aW9uIHdoaWNoIGlzIGNhbGxlZCBiZXR3ZWVuIGVhY2ggYXN5bmMgc3RlcCBvZiB0aGUgdXBsb2FkCiAqIHByb2Nlc3MuCiAqIEBwYXJhbSB7c3RyaW5nfSBpbnB1dElkIEVsZW1lbnQgSUQgb2YgdGhlIGlucHV0IGZpbGUgcGlja2VyIGVsZW1lbnQuCiAqIEBwYXJhbSB7c3RyaW5nfSBvdXRwdXRJZCBFbGVtZW50IElEIG9mIHRoZSBvdXRwdXQgZGlzcGxheS4KICogQHJldHVybiB7IUl0ZXJhYmxlPCFPYmplY3Q+fSBJdGVyYWJsZSBvZiBuZXh0IHN0ZXBzLgogKi8KZnVuY3Rpb24qIHVwbG9hZEZpbGVzU3RlcChpbnB1dElkLCBvdXRwdXRJZCkgewogIGNvbnN0IGlucHV0RWxlbWVudCA9IGRvY3VtZW50LmdldEVsZW1lbnRCeUlkKGlucHV0SWQpOwogIGlucHV0RWxlbWVudC5kaXNhYmxlZCA9IGZhbHNlOwoKICBjb25zdCBvdXRwdXRFbGVtZW50ID0gZG9jdW1lbnQuZ2V0RWxlbWVudEJ5SWQob3V0cHV0SWQpOwogIG91dHB1dEVsZW1lbnQuaW5uZXJIVE1MID0gJyc7CgogIGNvbnN0IHBpY2tlZFByb21pc2UgPSBuZXcgUHJvbWlzZSgocmVzb2x2ZSkgPT4gewogICAgaW5wdXRFbGVtZW50LmFkZEV2ZW50TGlzdGVuZXIoJ2NoYW5nZScsIChlKSA9PiB7CiAgICAgIHJlc29sdmUoZS50YXJnZXQuZmlsZXMpOwogICAgfSk7CiAgfSk7CgogIGNvbnN0IGNhbmNlbCA9IGRvY3VtZW50LmNyZWF0ZUVsZW1lbnQoJ2J1dHRvbicpOwogIGlucHV0RWxlbWVudC5wYXJlbnRFbGVtZW50LmFwcGVuZENoaWxkKGNhbmNlbCk7CiAgY2FuY2VsLnRleHRDb250ZW50ID0gJ0NhbmNlbCB1cGxvYWQnOwogIGNvbnN0IGNhbmNlbFByb21pc2UgPSBuZXcgUHJvbWlzZSgocmVzb2x2ZSkgPT4gewogICAgY2FuY2VsLm9uY2xpY2sgPSAoKSA9PiB7CiAgICAgIHJlc29sdmUobnVsbCk7CiAgICB9OwogIH0pOwoKICAvLyBXYWl0IGZvciB0aGUgdXNlciB0byBwaWNrIHRoZSBmaWxlcy4KICBjb25zdCBmaWxlcyA9IHlpZWxkIHsKICAgIHByb21pc2U6IFByb21pc2UucmFjZShbcGlja2VkUHJvbWlzZSwgY2FuY2VsUHJvbWlzZV0pLAogICAgcmVzcG9uc2U6IHsKICAgICAgYWN0aW9uOiAnc3RhcnRpbmcnLAogICAgfQogIH07CgogIGNhbmNlbC5yZW1vdmUoKTsKCiAgLy8gRGlzYWJsZSB0aGUgaW5wdXQgZWxlbWVudCBzaW5jZSBmdXJ0aGVyIHBpY2tzIGFyZSBub3QgYWxsb3dlZC4KICBpbnB1dEVsZW1lbnQuZGlzYWJsZWQgPSB0cnVlOwoKICBpZiAoIWZpbGVzKSB7CiAgICByZXR1cm4gewogICAgICByZXNwb25zZTogewogICAgICAgIGFjdGlvbjogJ2NvbXBsZXRlJywKICAgICAgfQogICAgfTsKICB9CgogIGZvciAoY29uc3QgZmlsZSBvZiBmaWxlcykgewogICAgY29uc3QgbGkgPSBkb2N1bWVudC5jcmVhdGVFbGVtZW50KCdsaScpOwogICAgbGkuYXBwZW5kKHNwYW4oZmlsZS5uYW1lLCB7Zm9udFdlaWdodDogJ2JvbGQnfSkpOwogICAgbGkuYXBwZW5kKHNwYW4oCiAgICAgICAgYCgke2ZpbGUudHlwZSB8fCAnbi9hJ30pIC0gJHtmaWxlLnNpemV9IGJ5dGVzLCBgICsKICAgICAgICBgbGFzdCBtb2RpZmllZDogJHsKICAgICAgICAgICAgZmlsZS5sYXN0TW9kaWZpZWREYXRlID8gZmlsZS5sYXN0TW9kaWZpZWREYXRlLnRvTG9jYWxlRGF0ZVN0cmluZygpIDoKICAgICAgICAgICAgICAgICAgICAgICAgICAgICAgICAgICAgJ24vYSd9IC0gYCkpOwogICAgY29uc3QgcGVyY2VudCA9IHNwYW4oJzAlIGRvbmUnKTsKICAgIGxpLmFwcGVuZENoaWxkKHBlcmNlbnQpOwoKICAgIG91dHB1dEVsZW1lbnQuYXBwZW5kQ2hpbGQobGkpOwoKICAgIGNvbnN0IGZpbGVEYXRhUHJvbWlzZSA9IG5ldyBQcm9taXNlKChyZXNvbHZlKSA9PiB7CiAgICAgIGNvbnN0IHJlYWRlciA9IG5ldyBGaWxlUmVhZGVyKCk7CiAgICAgIHJlYWRlci5vbmxvYWQgPSAoZSkgPT4gewogICAgICAgIHJlc29sdmUoZS50YXJnZXQucmVzdWx0KTsKICAgICAgfTsKICAgICAgcmVhZGVyLnJlYWRBc0FycmF5QnVmZmVyKGZpbGUpOwogICAgfSk7CiAgICAvLyBXYWl0IGZvciB0aGUgZGF0YSB0byBiZSByZWFkeS4KICAgIGxldCBmaWxlRGF0YSA9IHlpZWxkIHsKICAgICAgcHJvbWlzZTogZmlsZURhdGFQcm9taXNlLAogICAgICByZXNwb25zZTogewogICAgICAgIGFjdGlvbjogJ2NvbnRpbnVlJywKICAgICAgfQogICAgfTsKCiAgICAvLyBVc2UgYSBjaHVua2VkIHNlbmRpbmcgdG8gYXZvaWQgbWVzc2FnZSBzaXplIGxpbWl0cy4gU2VlIGIvNjIxMTU2NjAuCiAgICBsZXQgcG9zaXRpb24gPSAwOwogICAgZG8gewogICAgICBjb25zdCBsZW5ndGggPSBNYXRoLm1pbihmaWxlRGF0YS5ieXRlTGVuZ3RoIC0gcG9zaXRpb24sIE1BWF9QQVlMT0FEX1NJWkUpOwogICAgICBjb25zdCBjaHVuayA9IG5ldyBVaW50OEFycmF5KGZpbGVEYXRhLCBwb3NpdGlvbiwgbGVuZ3RoKTsKICAgICAgcG9zaXRpb24gKz0gbGVuZ3RoOwoKICAgICAgY29uc3QgYmFzZTY0ID0gYnRvYShTdHJpbmcuZnJvbUNoYXJDb2RlLmFwcGx5KG51bGwsIGNodW5rKSk7CiAgICAgIHlpZWxkIHsKICAgICAgICByZXNwb25zZTogewogICAgICAgICAgYWN0aW9uOiAnYXBwZW5kJywKICAgICAgICAgIGZpbGU6IGZpbGUubmFtZSwKICAgICAgICAgIGRhdGE6IGJhc2U2NCwKICAgICAgICB9LAogICAgICB9OwoKICAgICAgbGV0IHBlcmNlbnREb25lID0gZmlsZURhdGEuYnl0ZUxlbmd0aCA9PT0gMCA/CiAgICAgICAgICAxMDAgOgogICAgICAgICAgTWF0aC5yb3VuZCgocG9zaXRpb24gLyBmaWxlRGF0YS5ieXRlTGVuZ3RoKSAqIDEwMCk7CiAgICAgIHBlcmNlbnQudGV4dENvbnRlbnQgPSBgJHtwZXJjZW50RG9uZX0lIGRvbmVgOwoKICAgIH0gd2hpbGUgKHBvc2l0aW9uIDwgZmlsZURhdGEuYnl0ZUxlbmd0aCk7CiAgfQoKICAvLyBBbGwgZG9uZS4KICB5aWVsZCB7CiAgICByZXNwb25zZTogewogICAgICBhY3Rpb246ICdjb21wbGV0ZScsCiAgICB9CiAgfTsKfQoKc2NvcGUuZ29vZ2xlID0gc2NvcGUuZ29vZ2xlIHx8IHt9OwpzY29wZS5nb29nbGUuY29sYWIgPSBzY29wZS5nb29nbGUuY29sYWIgfHwge307CnNjb3BlLmdvb2dsZS5jb2xhYi5fZmlsZXMgPSB7CiAgX3VwbG9hZEZpbGVzLAogIF91cGxvYWRGaWxlc0NvbnRpbnVlLAp9Owp9KShzZWxmKTsK",
              "ok": true,
              "headers": [
                [
                  "content-type",
                  "application/javascript"
                ]
              ],
              "status": 200,
              "status_text": ""
            }
          },
          "base_uri": "https://localhost:8080/",
          "height": 107
        },
        "id": "fL-kZM3_BYzL",
        "outputId": "be4c5d35-e92e-4411-c95f-cc3b1618e6fc"
      },
      "source": [
        "from google.colab import files\n",
        "\n",
        "uploaded = files.upload()"
      ],
      "execution_count": null,
      "outputs": [
        {
          "output_type": "display_data",
          "data": {
            "text/html": [
              "\n",
              "     <input type=\"file\" id=\"files-ada641e8-507f-4f07-9211-c6ea160f4bda\" name=\"files[]\" multiple disabled\n",
              "        style=\"border:none\" />\n",
              "     <output id=\"result-ada641e8-507f-4f07-9211-c6ea160f4bda\">\n",
              "      Upload widget is only available when the cell has been executed in the\n",
              "      current browser session. Please rerun this cell to enable.\n",
              "      </output>\n",
              "      <script src=\"/nbextensions/google.colab/files.js\"></script> "
            ],
            "text/plain": [
              "<IPython.core.display.HTML object>"
            ]
          },
          "metadata": {}
        },
        {
          "output_type": "stream",
          "name": "stdout",
          "text": [
            "Saving train.csv to train.csv\n",
            "Saving test.csv to test.csv\n"
          ]
        }
      ]
    },
    {
      "cell_type": "markdown",
      "metadata": {
        "id": "5CAzcz3-aNXH"
      },
      "source": [
        "This chunk of code helps visualize the data"
      ]
    },
    {
      "cell_type": "code",
      "metadata": {
        "colab": {
          "base_uri": "https://localhost:8080/",
          "height": 1000
        },
        "id": "je26ArEPBvJc",
        "outputId": "2d83c1e7-ac67-427f-c99e-7c2e077e572d"
      },
      "source": [
        "train_data = pd.read_csv(\"train.csv\")\n",
        "def sort_age(age_keys, age_percents):\n",
        "  result_keys = []\n",
        "  result_percents = []\n",
        "  true_labels = [\"0-10\",\"11-20\",\"21-30\",\"31-40\",\"41-50\",\"51-60\",\"61-70\",\"71-80\"]\n",
        "  curr_label_index = 0\n",
        "  while curr_label_index < len(true_labels):\n",
        "      for i in range(len(age_keys)):\n",
        "        if age_keys[i] == true_labels[curr_label_index]:\n",
        "          result_keys.append(age_keys[i])\n",
        "          result_percents.append(age_percents[i])\n",
        "          curr_label_index += 1\n",
        "          break\n",
        "  return result_keys, result_percents\n",
        "\n",
        "def display_train_data(data, col1, col2):\n",
        "  subset_data = data[[col1, col2]].dropna()\n",
        "  counters_survived = {}\n",
        "  counters_total = {}\n",
        "  \n",
        "  for i in range(len(subset_data)):\n",
        "    key = subset_data.values[i,0]\n",
        "    if col1 == \"Age\":\n",
        "      if key != key:\n",
        "        continue\n",
        "      if key > 70 and key <= 80:\n",
        "        key = \"71-80\"\n",
        "      elif key > 60:\n",
        "        key = \"61-70\"\n",
        "      elif key > 50:\n",
        "        key = \"51-60\"\n",
        "      elif key > 40:\n",
        "        key = \"41-50\"\n",
        "      elif key > 30:\n",
        "        key = \"31-40\"\n",
        "      elif key > 20:\n",
        "        key = \"21-30\"\n",
        "      elif key > 10:\n",
        "        key = \"11-20\"\n",
        "      elif key >= 0:\n",
        "        key = \"0-10\"\n",
        "    val = counters_survived.get(key)\n",
        "    if val == None:\n",
        "      if subset_data.values[i,1] == 1:\n",
        "        counters_survived.setdefault(key, 1)\n",
        "      else:\n",
        "        counters_survived.setdefault(key, 0)\n",
        "      counters_total.setdefault(key, 1)\n",
        "    else:\n",
        "      if subset_data.values[i,1] == 1:\n",
        "        counters_survived[key] = counters_survived.get(key)+1\n",
        "      counters_total[key] = counters_total.get(key) + 1\n",
        "\n",
        "  keys = counters_survived.keys()\n",
        "  to_display_keys = []\n",
        "  percents = []\n",
        "  num_points = 0\n",
        "  for key in keys:\n",
        "    percents.append(counters_survived[key] / counters_total[key])\n",
        "    to_display_keys.append(key)\n",
        "    num_points += 1\n",
        "  \n",
        "  if col1 == \"Age\":\n",
        "    to_display_keys, percents = sort_age(to_display_keys, percents)\n",
        "  fig = plt.figure()\n",
        "  ax = fig.add_axes([0,0,1,1])\n",
        "  print(to_display_keys)\n",
        "  ax.bar(to_display_keys[0:num_points], percents[0:num_points])\n",
        "  plt.xlabel(col1)\n",
        "  plt.ylabel(col2)\n",
        "  plt.show()\n",
        "\n",
        "display_train_data(train_data, \"Sex\", \"Survived\")\n",
        "display_train_data(train_data, \"Age\", \"Survived\")\n",
        "display_train_data(train_data, \"SibSp\", \"Survived\")\n",
        "display_train_data(train_data, \"Parch\", \"Survived\")\n",
        "display_train_data(train_data, \"Pclass\", \"Survived\")\n",
        "display_train_data(train_data, \"Embarked\", \"Survived\")"
      ],
      "execution_count": null,
      "outputs": [
        {
          "output_type": "stream",
          "name": "stdout",
          "text": [
            "['male', 'female']\n"
          ]
        },
        {
          "output_type": "display_data",
          "data": {
            "image/png": "[encoded data removed]",
            "text/plain": [
              "<Figure size 432x288 with 1 Axes>"
            ]
          },
          "metadata": {
            "needs_background": "light"
          }
        },
        {
          "output_type": "stream",
          "name": "stdout",
          "text": [
            "['0-10', '11-20', '21-30', '31-40', '41-50', '51-60', '61-70', '71-80']\n"
          ]
        },
        {
          "output_type": "display_data",
          "data": {
            "image/png": "[encoded data removed]",
            "text/plain": [
              "<Figure size 432x288 with 1 Axes>"
            ]
          },
          "metadata": {
            "needs_background": "light"
          }
        },
        {
          "output_type": "stream",
          "name": "stdout",
          "text": [
            "[1, 0, 3, 4, 2, 5, 8]\n"
          ]
        },
        {
          "output_type": "display_data",
          "data": {
            "image/png": "[encoded data removed]",
            "text/plain": [
              "<Figure size 432x288 with 1 Axes>"
            ]
          },
          "metadata": {
            "needs_background": "light"
          }
        },
        {
          "output_type": "stream",
          "name": "stdout",
          "text": [
            "[0, 1, 2, 5, 3, 4, 6]\n"
          ]
        },
        {
          "output_type": "display_data",
          "data": {
            "image/png": "[encoded data removed]",
            "text/plain": [
              "<Figure size 432x288 with 1 Axes>"
            ]
          },
          "metadata": {
            "needs_background": "light"
          }
        },
        {
          "output_type": "stream",
          "name": "stdout",
          "text": [
            "[3, 1, 2]\n"
          ]
        },
        {
          "output_type": "display_data",
          "data": {
            "image/png": "[encoded data removed]",
            "text/plain": [
              "<Figure size 432x288 with 1 Axes>"
            ]
          },
          "metadata": {
            "needs_background": "light"
          }
        },
        {
          "output_type": "stream",
          "name": "stdout",
          "text": [
            "['S', 'C', 'Q']\n"
          ]
        },
        {
          "output_type": "display_data",
          "data": {
            "image/png": "[encoded data removed]",
            "text/plain": [
              "<Figure size 432x288 with 1 Axes>"
            ]
          },
          "metadata": {
            "needs_background": "light"
          }
        }
      ]
    },
    {
      "cell_type": "markdown",
      "metadata": {
        "id": "ydBiXB7-aSo5"
      },
      "source": [
        "Building a model. The first one is a Decision tree"
      ]
    },
    {
      "cell_type": "code",
      "metadata": {
        "id": "ekELY9BraSWd",
        "colab": {
          "base_uri": "https://localhost:8080/"
        },
        "outputId": "4c5657a6-a063-48ef-a198-783cbec3e724"
      },
      "source": [
        "path = \"train.csv\"\n",
        "\n",
        "df = pd.read_csv(path)[[\"Survived\", \"Pclass\", \"Sex\", \"SibSp\", \"Age\", \"Fare\", \"Parch\", \"Embarked\"]]\n",
        "predictor_cols = [\"Pclass\", \"Female\", \"SibSp\", \"Parch\", \"Fare\", \"Age\"]\n",
        "\n",
        "for i in range(len(df)):\n",
        "  key = df[\"Age\"].iloc[i]\n",
        "  if key != key:\n",
        "    key = np.nan\n",
        "  else:\n",
        "    key = round(key)\n",
        "  df[\"Age\"].iloc[i] = key\n",
        "print(df)\n",
        "\n",
        "df[\"Female\"] = (df.Sex == \"female\").astype(float)\n",
        "df = df.drop(\"Sex\", axis=\"columns\")"
      ],
      "execution_count": null,
      "outputs": [
        {
          "output_type": "stream",
          "name": "stdout",
          "text": [
            "     Survived  Pclass     Sex  SibSp   Age     Fare  Parch Embarked\n",
            "0           0       3    male      1  22.0   7.2500      0        S\n",
            "1           1       1  female      1  38.0  71.2833      0        C\n",
            "2           1       3  female      0  26.0   7.9250      0        S\n",
            "3           1       1  female      1  35.0  53.1000      0        S\n",
            "4           0       3    male      0  35.0   8.0500      0        S\n",
            "..        ...     ...     ...    ...   ...      ...    ...      ...\n",
            "886         0       2    male      0  27.0  13.0000      0        S\n",
            "887         1       1  female      0  19.0  30.0000      0        S\n",
            "888         0       3  female      1   NaN  23.4500      2        S\n",
            "889         1       1    male      0  26.0  30.0000      0        C\n",
            "890         0       3    male      0  32.0   7.7500      0        Q\n",
            "\n",
            "[891 rows x 8 columns]\n"
          ]
        },
        {
          "output_type": "stream",
          "name": "stderr",
          "text": [
            "/usr/local/lib/python3.7/dist-packages/pandas/core/indexing.py:670: SettingWithCopyWarning: \n",
            "A value is trying to be set on a copy of a slice from a DataFrame\n",
            "\n",
            "See the caveats in the documentation: https://pandas.pydata.org/pandas-docs/stable/user_guide/indexing.html#returning-a-view-versus-a-copy\n",
            "  iloc._setitem_with_indexer(indexer, value)\n"
          ]
        }
      ]
    },
    {
      "cell_type": "markdown",
      "metadata": {
        "id": "pI9jWLnT07BS"
      },
      "source": [
        "Train the model"
      ]
    },
    {
      "cell_type": "code",
      "metadata": {
        "id": "zRy0OTZOe8Co",
        "colab": {
          "base_uri": "https://localhost:8080/"
        },
        "outputId": "ed53fe59-f7b7-42b1-a0ac-601da582f876"
      },
      "source": [
        "from sklearn.tree import DecisionTreeClassifier\n",
        "from sklearn.experimental import enable_iterative_imputer\n",
        "from sklearn.impute import IterativeImputer\n",
        "from sklearn.naive_bayes import *\n",
        "from sklearn.model_selection import KFold\n",
        "from sklearn.metrics import accuracy_score\n",
        "\n",
        "path = \"train.csv\"\n",
        "\n",
        "true_result = df[\"Survived\"].to_numpy()\n",
        "\n",
        "df = pd.read_csv(path)[[\"Survived\", \"Pclass\", \"Sex\", \"SibSp\", \"Parch\", \"Embarked\"]]\n",
        "def transform_df(my_df):\n",
        "  for i in range(len(my_df)):\n",
        "    key = my_df[\"Embarked\"].iloc[i]\n",
        "    if key == \"S\":\n",
        "      key = \"1\"\n",
        "    elif key == \"Q\":\n",
        "      key = \"2\"\n",
        "    elif key == \"C\":\n",
        "      key = \"3\"\n",
        "    else:\n",
        "      key = \"4\"\n",
        "    my_df[\"Embarked\"].iloc[i] = key\n",
        "  my_df[\"Embarked\"] = my_df[\"Embarked\"].astype(float)\n",
        "\n",
        "  my_df[\"Female\"] = (my_df.Sex == \"female\").astype(float)\n",
        "  my_df = my_df.drop(\"Sex\", axis=\"columns\")\n",
        "transform_df(df)\n",
        "predictor_cols = [\"Pclass\", \"Parch\", \"Female\", \"SibSp\", \"Embarked\"]\n",
        "tree_depth = 10000\n",
        "model = DecisionTreeClassifier(max_depth=tree_depth, criterion=\"entropy\")\n",
        "\n",
        "model.fit(df[predictor_cols], df[\"Survived\"])\n",
        "result = model.predict(df[predictor_cols])\n",
        "print ( \"Accuracy on train survival = %.10f\" % (metrics.accuracy_score(result, df[\"Survived\"])) )\n",
        "d_tree_n_pos = 0\n",
        "d_tree_t_pos = 0\n",
        "d_tree_f_pos = 0\n",
        "d_tree_n_neg = 0\n",
        "d_tree_t_neg = 0\n",
        "d_tree_f_neg = 0\n",
        "for i in range(len(result)):\n",
        "  if result[i] == 1:\n",
        "    d_tree_n_pos += 1.0\n",
        "    if true_result[i] == 1:\n",
        "      d_tree_t_pos += 1.0\n",
        "    else:\n",
        "      d_tree_f_pos += 1.0\n",
        "  if result[i] == 0:\n",
        "    d_tree_n_neg += 1.0\n",
        "    if true_result[i] == 0:\n",
        "      d_tree_t_neg += 1.0\n",
        "    else:\n",
        "      d_tree_f_neg += 1.0\n",
        "d_tree_tpr = d_tree_t_pos / d_tree_n_pos\n",
        "d_tree_fpr = d_tree_f_pos / d_tree_n_pos\n",
        "d_tree_tnr = d_tree_t_neg / d_tree_n_neg\n",
        "d_tree_fnr = d_tree_f_neg / d_tree_n_neg\n",
        "print(d_tree_tpr)\n",
        "print(d_tree_fpr)\n",
        "print(d_tree_tnr)\n",
        "print(d_tree_fnr)\n",
        "\n",
        "#print(result, df[\"Survived\"].to_numpy())\n",
        "#fpr, tpr = roc_curve(result, df[\"Survived\"].to_numpy())\n",
        "\n",
        "from sklearn.neural_network import *\n",
        "hidden_layer_size = 400\n",
        "n_layers = 15\n",
        "model = MLPClassifier(hidden_layer_sizes=(hidden_layer_size,n_layers),alpha=0.008,max_iter=5000,momentum=0.9,learning_rate_init=0.005)\n",
        "\n",
        "model.fit(df[predictor_cols], df[\"Survived\"])\n",
        "result = model.predict(df[predictor_cols])\n",
        "print ( \"Accuracy on train data on an MLP classifier = %.10f\" % (metrics.accuracy_score(result, df[\"Survived\"])) )\n",
        "mlp_n_pos = 0\n",
        "mlp_t_pos = 0\n",
        "mlp_f_pos = 0\n",
        "mlp_n_neg = 0\n",
        "mlp_t_neg = 0\n",
        "mlp_f_neg = 0\n",
        "for i in range(len(result)):\n",
        "  if result[i] == 1:\n",
        "    mlp_n_pos += 1.0\n",
        "    if true_result[i] == 1:\n",
        "      mlp_t_pos += 1.0\n",
        "    else:\n",
        "      mlp_f_pos += 1.0\n",
        "  if result[i] == 0:\n",
        "    mlp_n_neg += 1.0\n",
        "    if true_result[i] == 0:\n",
        "      mlp_t_neg += 1.0\n",
        "    else:\n",
        "      mlp_f_neg += 1.0\n",
        "mlp_tpr = mlp_t_pos / mlp_n_pos\n",
        "mlp_fpr = mlp_f_pos / mlp_n_pos\n",
        "mlp_tnr = mlp_t_neg / mlp_n_neg\n",
        "mlp_fnr = mlp_f_neg / mlp_n_neg\n",
        "print(mlp_tpr)\n",
        "print(mlp_fpr)\n",
        "print(mlp_tnr)\n",
        "print(mlp_fnr)\n",
        "\n",
        "import tensorflow as tf\n",
        "from tensorflow import keras\n",
        "from tensorflow.keras import layers\n",
        "\n",
        "model = keras.Sequential(\n",
        "    [\n",
        "      layers.Dense(600, input_shape=(5,), activation = \"relu\"),\n",
        "      layers.Dense(600, activation = \"relu\"),\n",
        "      layers.Dense(600, activation = \"relu\"),\n",
        "      layers.Dense(2, activation = \"softmax\")\n",
        "    ]\n",
        ")\n",
        "\n",
        "model.compile(\n",
        "    loss=keras.losses.SparseCategoricalCrossentropy(),\n",
        "    optimizer=keras.optimizers.Adam(learning_rate=0.018)\n",
        ")\n",
        "history = model.fit(df[predictor_cols].to_numpy(), df[\"Survived\"].to_numpy(),batch_size=25,epochs=16,validation_split=0.15,verbose=0)\n",
        "\n",
        "test_scores = model.evaluate(df[predictor_cols].to_numpy(), df[\"Survived\"].to_numpy())\n",
        "print(test_scores)\n",
        "#print(\"Test loss:\", test_scores[0])\n",
        "#print(\"Test accuracy:\", test_scores[1])"
      ],
      "execution_count": null,
      "outputs": [
        {
          "output_type": "stream",
          "name": "stderr",
          "text": [
            "/usr/local/lib/python3.7/dist-packages/pandas/core/indexing.py:670: SettingWithCopyWarning: \n",
            "A value is trying to be set on a copy of a slice from a DataFrame\n",
            "\n",
            "See the caveats in the documentation: https://pandas.pydata.org/pandas-docs/stable/user_guide/indexing.html#returning-a-view-versus-a-copy\n",
            "  iloc._setitem_with_indexer(indexer, value)\n"
          ]
        },
        {
          "output_type": "stream",
          "name": "stdout",
          "text": [
            "Accuracy on train survival = 0.8372615039\n",
            "0.8832684824902723\n",
            "0.11673151750972763\n",
            "0.8186119873817035\n",
            "0.18138801261829654\n",
            "Accuracy on train data on an MLP classifier = 0.8181818182\n",
            "0.8103448275862069\n",
            "0.1896551724137931\n",
            "0.8219633943427621\n",
            "0.17803660565723795\n",
            "28/28 [==============================] - 0s 3ms/step - loss: 0.4567\n",
            "0.4567483067512512\n"
          ]
        }
      ]
    },
    {
      "cell_type": "code",
      "metadata": {
        "colab": {
          "base_uri": "https://localhost:8080/",
          "height": 1000
        },
        "id": "uAcITugFMKNw",
        "outputId": "c68769a3-911e-4243-dda4-f8220ce74d3f"
      },
      "source": [
        "def display_rates(keys, percents, model):\n",
        "  \n",
        "  fig = plt.figure()\n",
        "  ax = fig.add_axes([0,0,1,1])\n",
        "  ax.bar(keys, percents)\n",
        "  plt.xlabel(model)\n",
        "  plt.ylabel(\"Percent\")\n",
        "  plt.show()\n",
        "keys = [\"True Positive Rate\", \"False Positive Rate\", \"True Negative\", \"False Negative Rate\"]\n",
        "display_rates(keys, [d_tree_tpr, d_tree_fpr, d_tree_tnr, d_tree_fnr], \"Decision tree\")\n",
        "display_rates(keys, [mlp_tpr, mlp_fpr, mlp_tnr, mlp_fnr], \"MLP Classifier\")\n",
        "display_rates(keys, [keras_tpr, keras_fpr, keras_tnr, keras_fnr], \"Keras\")"
      ],
      "execution_count": null,
      "outputs": [
        {
          "output_type": "display_data",
          "data": {
            "image/png": "[encoded data removed]",
            "text/plain": [
              "<Figure size 432x288 with 1 Axes>"
            ]
          },
          "metadata": {}
        },
        {
          "output_type": "display_data",
          "data": {
            "image/png": "[encoded data removed]",
            "text/plain": [
              "<Figure size 432x288 with 1 Axes>"
            ]
          },
          "metadata": {}
        },
        {
          "output_type": "display_data",
          "data": {
            "image/png": "[encoded data removed]",
            "text/plain": [
              "<Figure size 432x288 with 1 Axes>"
            ]
          },
          "metadata": {}
        }
      ]
    },
    {
      "cell_type": "markdown",
      "metadata": {
        "id": "Z11TH36q1yzU"
      },
      "source": [
        "Test the model"
      ]
    },
    {
      "cell_type": "code",
      "metadata": {
        "id": "na3fGsuanMPM",
        "colab": {
          "base_uri": "https://localhost:8080/"
        },
        "outputId": "8ab2538a-6b37-4481-b6f5-2ba6e1293030"
      },
      "source": [
        "path = \"test.csv\"\n",
        "\n",
        "df = pd.read_csv(path)[[\"Pclass\", \"Parch\", \"Sex\", \"SibSp\", \"Embarked\"]]\n",
        "df[\"Female\"] = (df.Sex == \"female\").astype(float)\n",
        "df = df.drop(\"Sex\", axis=\"columns\")\n",
        "for i in range(len(df)):\n",
        "  key = df[\"Embarked\"].iloc[i]\n",
        "  if key == \"S\":\n",
        "    key = \"1\"\n",
        "  elif key == \"Q\":\n",
        "    key = \"2\"\n",
        "  elif key == \"C\":\n",
        "    key = \"3\"\n",
        "  else:\n",
        "    key = \"4\"\n",
        "  df[\"Embarked\"].iloc[i] = key\n",
        "df[\"Embarked\"] = df[\"Embarked\"].astype(float)\n",
        "\n",
        "result = model.predict(df)\n",
        "passenger_id = []\n",
        "for i in range(1,len(result)+1):\n",
        "  passenger_id.append(891 + i)\n",
        "print(result)\n",
        "print(passenger_id)\n",
        "passenger_id = np.array(passenger_id)\n",
        "survival_result = []\n",
        "for i in range(len(result)):\n",
        "  if result[i][0] > result[i][1]:\n",
        "    survival_result.append(0)\n",
        "  else:\n",
        "    survival_result.append(1)\n",
        "result_df = pd.DataFrame(survival_result,passenger_id)\n",
        "result_df.to_csv(\"result.csv\")\n",
        "\n",
        "print(result_df)"
      ],
      "execution_count": null,
      "outputs": [
        {
          "output_type": "stream",
          "name": "stderr",
          "text": [
            "/usr/local/lib/python3.7/dist-packages/pandas/core/indexing.py:670: SettingWithCopyWarning: \n",
            "A value is trying to be set on a copy of a slice from a DataFrame\n",
            "\n",
            "See the caveats in the documentation: https://pandas.pydata.org/pandas-docs/stable/user_guide/indexing.html#returning-a-view-versus-a-copy\n",
            "  iloc._setitem_with_indexer(indexer, value)\n"
          ]
        },
        {
          "output_type": "stream",
          "name": "stdout",
          "text": [
            "[[8.84523451e-01 1.15476593e-01]\n",
            " [5.91855288e-01 4.08144683e-01]\n",
            " [8.84853899e-01 1.15146101e-01]\n",
            " [8.84523451e-01 1.15476593e-01]\n",
            " [4.13982749e-01 5.86017251e-01]\n",
            " [8.84523451e-01 1.15476593e-01]\n",
            " [8.84523451e-01 1.15476593e-01]\n",
            " [6.10762835e-01 3.89237195e-01]\n",
            " [8.84523451e-01 1.15476593e-01]\n",
            " [2.93376297e-01 7.06623673e-01]\n",
            " [8.84523451e-01 1.15476593e-01]\n",
            " [6.66694820e-01 3.33305210e-01]\n",
            " [8.45854054e-04 9.99154091e-01]\n",
            " [6.02602541e-01 3.97397459e-01]\n",
            " [8.45854054e-04 9.99154091e-01]\n",
            " [8.18090339e-04 9.99181926e-01]\n",
            " [8.84853899e-01 1.15146101e-01]\n",
            " [8.90279591e-01 1.09720349e-01]\n",
            " [5.91855288e-01 4.08144683e-01]\n",
            " [8.84523451e-01 1.15476593e-01]\n",
            " [1.06913422e-14 1.00000000e+00]\n",
            " [8.84523451e-01 1.15476593e-01]\n",
            " [6.70679390e-01 3.29320669e-01]\n",
            " [8.84523451e-01 1.15476593e-01]\n",
            " [4.90613520e-01 5.09386480e-01]\n",
            " [8.84523451e-01 1.15476593e-01]\n",
            " [6.35272801e-01 3.64727229e-01]\n",
            " [8.90279591e-01 1.09720349e-01]\n",
            " [6.66694820e-01 3.33305210e-01]\n",
            " [1.20090204e-03 9.98799086e-01]\n",
            " [6.02602541e-01 3.97397459e-01]\n",
            " [1.77976403e-06 9.99998212e-01]\n",
            " [6.55412316e-01 3.44587713e-01]\n",
            " [6.55412316e-01 3.44587713e-01]\n",
            " [1.06913422e-14 1.00000000e+00]\n",
            " [8.90279591e-01 1.09720349e-01]\n",
            " [8.84523451e-01 1.15476593e-01]\n",
            " [8.84523451e-01 1.15476593e-01]\n",
            " [8.84523451e-01 1.15476593e-01]\n",
            " [8.84523451e-01 1.15476593e-01]\n",
            " [8.84523451e-01 1.15476593e-01]\n",
            " [6.66694820e-01 3.33305210e-01]\n",
            " [8.84523451e-01 1.15476593e-01]\n",
            " [8.84523451e-01 1.15476593e-01]\n",
            " [8.45854054e-04 9.99154091e-01]\n",
            " [8.84523451e-01 1.15476593e-01]\n",
            " [1.00000000e+00 4.76403381e-14]\n",
            " [8.84523451e-01 1.15476593e-01]\n",
            " [1.59426648e-02 9.84057367e-01]\n",
            " [8.84523451e-01 1.15476593e-01]\n",
            " [1.71700758e-05 9.99982834e-01]\n",
            " [9.36992288e-01 6.30077347e-02]\n",
            " [1.70891326e-05 9.99982953e-01]\n",
            " [4.50279070e-27 1.00000000e+00]\n",
            " [9.36992288e-01 6.30077347e-02]\n",
            " [7.69174469e-19 1.00000000e+00]\n",
            " [8.84523451e-01 1.15476593e-01]\n",
            " [8.84523451e-01 1.15476593e-01]\n",
            " [8.84523451e-01 1.15476593e-01]\n",
            " [1.59426648e-02 9.84057367e-01]\n",
            " [8.84523451e-01 1.15476593e-01]\n",
            " [8.84523451e-01 1.15476593e-01]\n",
            " [8.84523451e-01 1.15476593e-01]\n",
            " [8.84523451e-01 1.15476593e-01]\n",
            " [8.45210746e-09 1.00000000e+00]\n",
            " [8.84523451e-01 1.15476593e-01]\n",
            " [8.84523451e-01 1.15476593e-01]\n",
            " [6.66694820e-01 3.33305210e-01]\n",
            " [1.00000000e+00 4.76403381e-14]\n",
            " [1.94120228e-01 8.05879772e-01]\n",
            " [8.84523451e-01 1.15476593e-01]\n",
            " [8.84523451e-01 1.15476593e-01]\n",
            " [8.84523451e-01 1.15476593e-01]\n",
            " [1.00000000e+00 4.76403381e-14]\n",
            " [1.59426648e-02 9.84057367e-01]\n",
            " [1.00000000e+00 4.76403381e-14]\n",
            " [8.84523451e-01 1.15476593e-01]\n",
            " [4.89260238e-12 1.00000000e+00]\n",
            " [8.84523451e-01 1.15476593e-01]\n",
            " [8.84523451e-01 1.15476593e-01]\n",
            " [8.84523451e-01 1.15476593e-01]\n",
            " [1.71700758e-05 9.99982834e-01]\n",
            " [6.66694820e-01 3.33305210e-01]\n",
            " [8.84523451e-01 1.15476593e-01]\n",
            " [8.84853899e-01 1.15146101e-01]\n",
            " [8.84523451e-01 1.15476593e-01]\n",
            " [8.84523451e-01 1.15476593e-01]\n",
            " [8.84523451e-01 1.15476593e-01]\n",
            " [8.84523451e-01 1.15476593e-01]\n",
            " [6.10762835e-01 3.89237195e-01]\n",
            " [5.91855288e-01 4.08144683e-01]\n",
            " [8.84523451e-01 1.15476593e-01]\n",
            " [1.96043834e-01 8.03956151e-01]\n",
            " [8.84523451e-01 1.15476593e-01]\n",
            " [1.00000000e+00 4.76406092e-14]\n",
            " [8.84523451e-01 1.15476593e-01]\n",
            " [8.45854054e-04 9.99154091e-01]\n",
            " [8.84523451e-01 1.15476593e-01]\n",
            " [8.84523451e-01 1.15476593e-01]\n",
            " [8.84523451e-01 1.15476593e-01]\n",
            " [2.04849734e-10 1.00000000e+00]\n",
            " [6.02602541e-01 3.97397459e-01]\n",
            " [8.84523451e-01 1.15476593e-01]\n",
            " [8.84523451e-01 1.15476593e-01]\n",
            " [8.84523451e-01 1.15476593e-01]\n",
            " [8.84523451e-01 1.15476593e-01]\n",
            " [8.84523451e-01 1.15476593e-01]\n",
            " [8.84523451e-01 1.15476593e-01]\n",
            " [8.84523451e-01 1.15476593e-01]\n",
            " [8.84523451e-01 1.15476593e-01]\n",
            " [9.36992288e-01 6.30077347e-02]\n",
            " [8.84523451e-01 1.15476593e-01]\n",
            " [1.59426648e-02 9.84057367e-01]\n",
            " [8.84523451e-01 1.15476593e-01]\n",
            " [8.45854054e-04 9.99154091e-01]\n",
            " [8.84523451e-01 1.15476593e-01]\n",
            " [8.90279591e-01 1.09720349e-01]\n",
            " [4.13982749e-01 5.86017251e-01]\n",
            " [1.00000000e+00 4.76403381e-14]\n",
            " [2.91388899e-01 7.08611131e-01]\n",
            " [8.84523451e-01 1.15476593e-01]\n",
            " [8.84523451e-01 1.15476593e-01]\n",
            " [2.04849734e-10 1.00000000e+00]\n",
            " [8.84523451e-01 1.15476593e-01]\n",
            " [8.84523451e-01 1.15476593e-01]\n",
            " [6.97019935e-01 3.02980006e-01]\n",
            " [8.84523451e-01 1.15476593e-01]\n",
            " [7.63533264e-02 9.23646688e-01]\n",
            " [8.84523451e-01 1.15476593e-01]\n",
            " [8.84523451e-01 1.15476593e-01]\n",
            " [8.84523451e-01 1.15476593e-01]\n",
            " [1.00000000e+00 4.76403381e-14]\n",
            " [8.84523451e-01 1.15476593e-01]\n",
            " [8.84523451e-01 1.15476593e-01]\n",
            " [8.84523451e-01 1.15476593e-01]\n",
            " [8.84523451e-01 1.15476593e-01]\n",
            " [8.90279591e-01 1.09720349e-01]\n",
            " [8.84523451e-01 1.15476593e-01]\n",
            " [8.84523451e-01 1.15476593e-01]\n",
            " [8.84523451e-01 1.15476593e-01]\n",
            " [0.00000000e+00 1.00000000e+00]\n",
            " [6.70679390e-01 3.29320669e-01]\n",
            " [8.84523451e-01 1.15476593e-01]\n",
            " [8.84523451e-01 1.15476593e-01]\n",
            " [6.66694820e-01 3.33305210e-01]\n",
            " [1.70481815e-08 1.00000000e+00]\n",
            " [6.66694820e-01 3.33305210e-01]\n",
            " [8.84523451e-01 1.15476593e-01]\n",
            " [6.66694820e-01 3.33305210e-01]\n",
            " [6.10762835e-01 3.89237195e-01]\n",
            " [6.35272801e-01 3.64727229e-01]\n",
            " [8.90279591e-01 1.09720349e-01]\n",
            " [8.84523451e-01 1.15476593e-01]\n",
            " [8.84523451e-01 1.15476593e-01]\n",
            " [6.18050949e-28 1.00000000e+00]\n",
            " [8.84523451e-01 1.15476593e-01]\n",
            " [6.70679390e-01 3.29320669e-01]\n",
            " [8.84523451e-01 1.15476593e-01]\n",
            " [6.66694820e-01 3.33305210e-01]\n",
            " [8.84523451e-01 1.15476593e-01]\n",
            " [8.84523451e-01 1.15476593e-01]\n",
            " [8.84523451e-01 1.15476593e-01]\n",
            " [8.84523451e-01 1.15476593e-01]\n",
            " [8.84523451e-01 1.15476593e-01]\n",
            " [8.84523451e-01 1.15476593e-01]\n",
            " [4.13982749e-01 5.86017251e-01]\n",
            " [1.00000000e+00 4.76403381e-14]\n",
            " [6.92640245e-01 3.07359755e-01]\n",
            " [1.59426648e-02 9.84057367e-01]\n",
            " [8.84523451e-01 1.15476593e-01]\n",
            " [8.84523451e-01 1.15476593e-01]\n",
            " [8.90279591e-01 1.09720349e-01]\n",
            " [8.84523451e-01 1.15476593e-01]\n",
            " [8.90279591e-01 1.09720349e-01]\n",
            " [8.84523451e-01 1.15476593e-01]\n",
            " [6.72926664e-01 3.27073395e-01]\n",
            " [8.84523451e-01 1.15476593e-01]\n",
            " [1.06913422e-14 1.00000000e+00]\n",
            " [8.84523451e-01 1.15476593e-01]\n",
            " [8.31816673e-01 1.68183401e-01]\n",
            " [8.84523451e-01 1.15476593e-01]\n",
            " [1.44966325e-05 9.99985456e-01]\n",
            " [8.45854054e-04 9.99154091e-01]\n",
            " [8.84523451e-01 1.15476593e-01]\n",
            " [3.42618914e-05 9.99965787e-01]\n",
            " [8.84523451e-01 1.15476593e-01]\n",
            " [4.98452187e-01 5.01547754e-01]\n",
            " [2.93376297e-01 7.06623673e-01]\n",
            " [0.00000000e+00 1.00000000e+00]\n",
            " [8.84523451e-01 1.15476593e-01]\n",
            " [6.02602541e-01 3.97397459e-01]\n",
            " [6.66694820e-01 3.33305210e-01]\n",
            " [8.84523451e-01 1.15476593e-01]\n",
            " [8.84853899e-01 1.15146101e-01]\n",
            " [8.84523451e-01 1.15476593e-01]\n",
            " [8.84523451e-01 1.15476593e-01]\n",
            " [8.84523451e-01 1.15476593e-01]\n",
            " [8.84523451e-01 1.15476593e-01]\n",
            " [8.84523451e-01 1.15476593e-01]\n",
            " [8.84523451e-01 1.15476593e-01]\n",
            " [8.84523451e-01 1.15476593e-01]\n",
            " [8.84523451e-01 1.15476593e-01]\n",
            " [1.06913422e-14 1.00000000e+00]\n",
            " [2.13206664e-01 7.86793351e-01]\n",
            " [8.84523451e-01 1.15476593e-01]\n",
            " [1.00000000e+00 4.76403381e-14]\n",
            " [8.84523451e-01 1.15476593e-01]\n",
            " [8.84523451e-01 1.15476593e-01]\n",
            " [1.59426648e-02 9.84057367e-01]\n",
            " [8.84523451e-01 1.15476593e-01]\n",
            " [8.84523451e-01 1.15476593e-01]\n",
            " [8.84523451e-01 1.15476593e-01]\n",
            " [8.84523451e-01 1.15476593e-01]\n",
            " [2.91388899e-01 7.08611131e-01]\n",
            " [2.96958168e-22 1.00000000e+00]\n",
            " [6.66694820e-01 3.33305210e-01]\n",
            " [8.84523451e-01 1.15476593e-01]\n",
            " [1.96053982e-02 9.80394602e-01]\n",
            " [3.42618914e-05 9.99965787e-01]\n",
            " [8.84523451e-01 1.15476593e-01]\n",
            " [8.18090339e-04 9.99181926e-01]\n",
            " [8.84523451e-01 1.15476593e-01]\n",
            " [8.84523451e-01 1.15476593e-01]\n",
            " [8.84523451e-01 1.15476593e-01]\n",
            " [1.59426648e-02 9.84057367e-01]\n",
            " [8.84523451e-01 1.15476593e-01]\n",
            " [8.84523451e-01 1.15476593e-01]\n",
            " [8.84523451e-01 1.15476593e-01]\n",
            " [8.84523451e-01 1.15476593e-01]\n",
            " [8.84523451e-01 1.15476593e-01]\n",
            " [8.84523451e-01 1.15476593e-01]\n",
            " [6.70679390e-01 3.29320669e-01]\n",
            " [8.84523451e-01 1.15476593e-01]\n",
            " [8.84523451e-01 1.15476593e-01]\n",
            " [1.06913422e-14 1.00000000e+00]\n",
            " [8.84523451e-01 1.15476593e-01]\n",
            " [1.06913422e-14 1.00000000e+00]\n",
            " [8.90279591e-01 1.09720349e-01]\n",
            " [2.13206664e-01 7.86793351e-01]\n",
            " [2.04849734e-10 1.00000000e+00]\n",
            " [1.59426648e-02 9.84057367e-01]\n",
            " [6.72926664e-01 3.27073395e-01]\n",
            " [1.44966325e-05 9.99985456e-01]\n",
            " [8.84523451e-01 1.15476593e-01]\n",
            " [8.84523451e-01 1.15476593e-01]\n",
            " [1.71700758e-05 9.99982834e-01]\n",
            " [8.84523451e-01 1.15476593e-01]\n",
            " [6.10762835e-01 3.89237195e-01]\n",
            " [2.91388899e-01 7.08611131e-01]\n",
            " [6.06283724e-01 3.93716305e-01]\n",
            " [2.88336873e-01 7.11663127e-01]\n",
            " [8.84523451e-01 1.15476593e-01]\n",
            " [1.06913422e-14 1.00000000e+00]\n",
            " [8.84523451e-01 1.15476593e-01]\n",
            " [8.84523451e-01 1.15476593e-01]\n",
            " [8.84523451e-01 1.15476593e-01]\n",
            " [8.84523451e-01 1.15476593e-01]\n",
            " [8.84523451e-01 1.15476593e-01]\n",
            " [8.84523451e-01 1.15476593e-01]\n",
            " [8.84523451e-01 1.15476593e-01]\n",
            " [8.84523451e-01 1.15476593e-01]\n",
            " [8.84523451e-01 1.15476593e-01]\n",
            " [6.72926664e-01 3.27073395e-01]\n",
            " [4.13982749e-01 5.86017251e-01]\n",
            " [9.36992288e-01 6.30077347e-02]\n",
            " [8.84523451e-01 1.15476593e-01]\n",
            " [6.66694820e-01 3.33305210e-01]\n",
            " [8.84523451e-01 1.15476593e-01]\n",
            " [8.84523451e-01 1.15476593e-01]\n",
            " [8.84523451e-01 1.15476593e-01]\n",
            " [1.00000000e+00 4.76403381e-14]\n",
            " [8.84523451e-01 1.15476593e-01]\n",
            " [2.04849734e-10 1.00000000e+00]\n",
            " [5.20715952e-01 4.79284018e-01]\n",
            " [8.90279591e-01 1.09720349e-01]\n",
            " [2.91388899e-01 7.08611131e-01]\n",
            " [8.84523451e-01 1.15476593e-01]\n",
            " [6.02602541e-01 3.97397459e-01]\n",
            " [6.02602541e-01 3.97397459e-01]\n",
            " [8.84523451e-01 1.15476593e-01]\n",
            " [8.84523451e-01 1.15476593e-01]\n",
            " [8.84523451e-01 1.15476593e-01]\n",
            " [8.84523451e-01 1.15476593e-01]\n",
            " [8.84523451e-01 1.15476593e-01]\n",
            " [4.13982749e-01 5.86017251e-01]\n",
            " [8.84523451e-01 1.15476593e-01]\n",
            " [8.84523451e-01 1.15476593e-01]\n",
            " [1.71700758e-05 9.99982834e-01]\n",
            " [8.90279591e-01 1.09720349e-01]\n",
            " [8.84523451e-01 1.15476593e-01]\n",
            " [6.66694820e-01 3.33305210e-01]\n",
            " [8.84523451e-01 1.15476593e-01]\n",
            " [8.90279591e-01 1.09720349e-01]\n",
            " [1.96053982e-02 9.80394602e-01]\n",
            " [8.84523451e-01 1.15476593e-01]\n",
            " [8.84523451e-01 1.15476593e-01]\n",
            " [7.70281255e-01 2.29718775e-01]\n",
            " [1.20090204e-03 9.98799086e-01]\n",
            " [6.66694820e-01 3.33305210e-01]\n",
            " [8.84523451e-01 1.15476593e-01]\n",
            " [8.84523451e-01 1.15476593e-01]\n",
            " [9.36992288e-01 6.30077347e-02]\n",
            " [8.84523451e-01 1.15476593e-01]\n",
            " [8.84523451e-01 1.15476593e-01]\n",
            " [8.84523451e-01 1.15476593e-01]\n",
            " [1.47442063e-02 9.85255837e-01]\n",
            " [2.25226402e-01 7.74773538e-01]\n",
            " [8.84523451e-01 1.15476593e-01]\n",
            " [1.96053982e-02 9.80394602e-01]\n",
            " [5.91855288e-01 4.08144683e-01]\n",
            " [8.84523451e-01 1.15476593e-01]\n",
            " [8.90279591e-01 1.09720349e-01]\n",
            " [8.84523451e-01 1.15476593e-01]\n",
            " [8.84523451e-01 1.15476593e-01]\n",
            " [1.59426648e-02 9.84057367e-01]\n",
            " [8.84523451e-01 1.15476593e-01]\n",
            " [1.06913422e-14 1.00000000e+00]\n",
            " [8.84523451e-01 1.15476593e-01]\n",
            " [8.84523451e-01 1.15476593e-01]\n",
            " [1.77976403e-06 9.99998212e-01]\n",
            " [8.84523451e-01 1.15476593e-01]\n",
            " [8.90279591e-01 1.09720349e-01]\n",
            " [8.84523451e-01 1.15476593e-01]\n",
            " [6.66694820e-01 3.33305210e-01]\n",
            " [6.70679390e-01 3.29320669e-01]\n",
            " [8.84523451e-01 1.15476593e-01]\n",
            " [1.70891326e-05 9.99982953e-01]\n",
            " [1.00000000e+00 4.76403381e-14]\n",
            " [6.02602541e-01 3.97397459e-01]\n",
            " [8.84523451e-01 1.15476593e-01]\n",
            " [6.72926664e-01 3.27073395e-01]\n",
            " [1.00000000e+00 4.76403381e-14]\n",
            " [8.90279591e-01 1.09720349e-01]\n",
            " [8.84523451e-01 1.15476593e-01]\n",
            " [8.84523451e-01 1.15476593e-01]\n",
            " [6.66694820e-01 3.33305210e-01]\n",
            " [8.84523451e-01 1.15476593e-01]\n",
            " [8.84523451e-01 1.15476593e-01]\n",
            " [8.84523451e-01 1.15476593e-01]\n",
            " [8.90279591e-01 1.09720349e-01]\n",
            " [8.84523451e-01 1.15476593e-01]\n",
            " [8.84523451e-01 1.15476593e-01]\n",
            " [8.84523451e-01 1.15476593e-01]\n",
            " [6.35272801e-01 3.64727229e-01]\n",
            " [8.84523451e-01 1.15476593e-01]\n",
            " [8.84523451e-01 1.15476593e-01]\n",
            " [8.84523451e-01 1.15476593e-01]\n",
            " [8.84523451e-01 1.15476593e-01]\n",
            " [8.84523451e-01 1.15476593e-01]\n",
            " [8.84523451e-01 1.15476593e-01]\n",
            " [6.35272801e-01 3.64727229e-01]\n",
            " [8.84523451e-01 1.15476593e-01]\n",
            " [8.84523451e-01 1.15476593e-01]\n",
            " [7.40069389e-01 2.59930670e-01]\n",
            " [6.55412316e-01 3.44587713e-01]\n",
            " [6.66694820e-01 3.33305210e-01]\n",
            " [4.89260238e-12 1.00000000e+00]\n",
            " [8.84523451e-01 1.15476593e-01]\n",
            " [8.84523451e-01 1.15476593e-01]\n",
            " [5.91855288e-01 4.08144683e-01]\n",
            " [0.00000000e+00 1.00000000e+00]\n",
            " [9.80150327e-02 9.01984930e-01]\n",
            " [8.84523451e-01 1.15476593e-01]\n",
            " [8.84523451e-01 1.15476593e-01]\n",
            " [2.04849734e-10 1.00000000e+00]\n",
            " [8.84523451e-01 1.15476593e-01]\n",
            " [8.84523451e-01 1.15476593e-01]\n",
            " [8.84523451e-01 1.15476593e-01]\n",
            " [6.35272801e-01 3.64727229e-01]\n",
            " [9.36992288e-01 6.30077347e-02]\n",
            " [6.02602541e-01 3.97397459e-01]\n",
            " [1.59426648e-02 9.84057367e-01]\n",
            " [6.66694820e-01 3.33305210e-01]\n",
            " [8.84523451e-01 1.15476593e-01]\n",
            " [1.47442063e-02 9.85255837e-01]\n",
            " [1.59426648e-02 9.84057367e-01]\n",
            " [4.71192226e-02 9.52880800e-01]\n",
            " [8.84523451e-01 1.15476593e-01]\n",
            " [6.66694820e-01 3.33305210e-01]\n",
            " [6.18050949e-28 1.00000000e+00]\n",
            " [8.84523451e-01 1.15476593e-01]\n",
            " [8.84523451e-01 1.15476593e-01]\n",
            " [8.84523451e-01 1.15476593e-01]\n",
            " [5.91855288e-01 4.08144683e-01]\n",
            " [8.84523451e-01 1.15476593e-01]\n",
            " [2.88336873e-01 7.11663127e-01]\n",
            " [8.84523451e-01 1.15476593e-01]\n",
            " [8.84523451e-01 1.15476593e-01]\n",
            " [8.84523451e-01 1.15476593e-01]\n",
            " [1.21428492e-10 1.00000000e+00]\n",
            " [6.66694820e-01 3.33305210e-01]\n",
            " [4.40897495e-01 5.59102476e-01]\n",
            " [8.84523451e-01 1.15476593e-01]\n",
            " [8.84523451e-01 1.15476593e-01]\n",
            " [1.21428492e-10 1.00000000e+00]\n",
            " [8.45854054e-04 9.99154091e-01]\n",
            " [8.84523451e-01 1.15476593e-01]\n",
            " [3.42618914e-05 9.99965787e-01]\n",
            " [8.84523451e-01 1.15476593e-01]\n",
            " [8.84523451e-01 1.15476593e-01]\n",
            " [6.70679390e-01 3.29320669e-01]\n",
            " [6.02602541e-01 3.97397459e-01]\n",
            " [6.35272801e-01 3.64727229e-01]\n",
            " [6.66694820e-01 3.33305210e-01]\n",
            " [1.06913422e-14 1.00000000e+00]\n",
            " [9.36992288e-01 6.30077347e-02]\n",
            " [6.02602541e-01 3.97397459e-01]\n",
            " [1.44966325e-05 9.99985456e-01]\n",
            " [8.84523451e-01 1.15476593e-01]\n",
            " [4.13982749e-01 5.86017251e-01]\n",
            " [8.84523451e-01 1.15476593e-01]\n",
            " [6.91993182e-06 9.99993086e-01]\n",
            " [8.84523451e-01 1.15476593e-01]\n",
            " [8.84523451e-01 1.15476593e-01]\n",
            " [1.59426779e-02 9.84057248e-01]\n",
            " [8.84523451e-01 1.15476593e-01]\n",
            " [8.84523451e-01 1.15476593e-01]\n",
            " [8.84523451e-01 1.15476593e-01]]\n",
            "[892, 893, 894, 895, 896, 897, 898, 899, 900, 901, 902, 903, 904, 905, 906, 907, 908, 909, 910, 911, 912, 913, 914, 915, 916, 917, 918, 919, 920, 921, 922, 923, 924, 925, 926, 927, 928, 929, 930, 931, 932, 933, 934, 935, 936, 937, 938, 939, 940, 941, 942, 943, 944, 945, 946, 947, 948, 949, 950, 951, 952, 953, 954, 955, 956, 957, 958, 959, 960, 961, 962, 963, 964, 965, 966, 967, 968, 969, 970, 971, 972, 973, 974, 975, 976, 977, 978, 979, 980, 981, 982, 983, 984, 985, 986, 987, 988, 989, 990, 991, 992, 993, 994, 995, 996, 997, 998, 999, 1000, 1001, 1002, 1003, 1004, 1005, 1006, 1007, 1008, 1009, 1010, 1011, 1012, 1013, 1014, 1015, 1016, 1017, 1018, 1019, 1020, 1021, 1022, 1023, 1024, 1025, 1026, 1027, 1028, 1029, 1030, 1031, 1032, 1033, 1034, 1035, 1036, 1037, 1038, 1039, 1040, 1041, 1042, 1043, 1044, 1045, 1046, 1047, 1048, 1049, 1050, 1051, 1052, 1053, 1054, 1055, 1056, 1057, 1058, 1059, 1060, 1061, 1062, 1063, 1064, 1065, 1066, 1067, 1068, 1069, 1070, 1071, 1072, 1073, 1074, 1075, 1076, 1077, 1078, 1079, 1080, 1081, 1082, 1083, 1084, 1085, 1086, 1087, 1088, 1089, 1090, 1091, 1092, 1093, 1094, 1095, 1096, 1097, 1098, 1099, 1100, 1101, 1102, 1103, 1104, 1105, 1106, 1107, 1108, 1109, 1110, 1111, 1112, 1113, 1114, 1115, 1116, 1117, 1118, 1119, 1120, 1121, 1122, 1123, 1124, 1125, 1126, 1127, 1128, 1129, 1130, 1131, 1132, 1133, 1134, 1135, 1136, 1137, 1138, 1139, 1140, 1141, 1142, 1143, 1144, 1145, 1146, 1147, 1148, 1149, 1150, 1151, 1152, 1153, 1154, 1155, 1156, 1157, 1158, 1159, 1160, 1161, 1162, 1163, 1164, 1165, 1166, 1167, 1168, 1169, 1170, 1171, 1172, 1173, 1174, 1175, 1176, 1177, 1178, 1179, 1180, 1181, 1182, 1183, 1184, 1185, 1186, 1187, 1188, 1189, 1190, 1191, 1192, 1193, 1194, 1195, 1196, 1197, 1198, 1199, 1200, 1201, 1202, 1203, 1204, 1205, 1206, 1207, 1208, 1209, 1210, 1211, 1212, 1213, 1214, 1215, 1216, 1217, 1218, 1219, 1220, 1221, 1222, 1223, 1224, 1225, 1226, 1227, 1228, 1229, 1230, 1231, 1232, 1233, 1234, 1235, 1236, 1237, 1238, 1239, 1240, 1241, 1242, 1243, 1244, 1245, 1246, 1247, 1248, 1249, 1250, 1251, 1252, 1253, 1254, 1255, 1256, 1257, 1258, 1259, 1260, 1261, 1262, 1263, 1264, 1265, 1266, 1267, 1268, 1269, 1270, 1271, 1272, 1273, 1274, 1275, 1276, 1277, 1278, 1279, 1280, 1281, 1282, 1283, 1284, 1285, 1286, 1287, 1288, 1289, 1290, 1291, 1292, 1293, 1294, 1295, 1296, 1297, 1298, 1299, 1300, 1301, 1302, 1303, 1304, 1305, 1306, 1307, 1308, 1309]\n",
            "      0\n",
            "892   0\n",
            "893   0\n",
            "894   0\n",
            "895   0\n",
            "896   1\n",
            "...  ..\n",
            "1305  0\n",
            "1306  1\n",
            "1307  0\n",
            "1308  0\n",
            "1309  0\n",
            "\n",
            "[418 rows x 1 columns]\n"
          ]
        }
      ]
    }
  ]
}